{
  "nbformat": 4,
  "nbformat_minor": 0,
  "metadata": {
    "colab": {
      "provenance": [],
      "include_colab_link": true
    },
    "kernelspec": {
      "name": "python3",
      "display_name": "Python 3"
    },
    "language_info": {
      "name": "python"
    }
  },
  "cells": [
    {
      "cell_type": "markdown",
      "metadata": {
        "id": "view-in-github",
        "colab_type": "text"
      },
      "source": [
        "<a href=\"https://colab.research.google.com/github/iMammal/KerasEvaluateModule/blob/master/keras_binary_classifier_12.ipynb\" target=\"_parent\"><img src=\"https://colab.research.google.com/assets/colab-badge.svg\" alt=\"Open In Colab\"/></a>"
      ]
    },
    {
      "cell_type": "code",
      "execution_count": null,
      "metadata": {
        "id": "xmgJcdXRUHi6"
      },
      "outputs": [],
      "source": [
        "import numpy as np\n",
        "import seaborn as sns\n",
        "import matplotlib.pyplot as plt\n",
        "from tensorflow.keras.models import Sequential\n",
        "from tensorflow.keras.layers import Dense\n",
        "import matplotlib.pyplot as plt\n",
        "import numpy as np"
      ]
    },
    {
      "cell_type": "code",
      "source": [
        "seed = 7\n",
        "# load pima indians dataset\n",
        "# dataset = np.loadtxt(\"NewGencode4DLTraining2.csv\", delimiter=\",\")\n",
        "dataset = np.loadtxt(\"12Featuresplus_LncAdeepScores.csv\", delimiter=\",\")\n",
        "# split into input (X) and output (Y) variables\n",
        "X = dataset[:,0:33] #12]\n",
        "Y = dataset[:,33] #12]"
      ],
      "metadata": {
        "id": "QgfBKL6jVvH5"
      },
      "execution_count": null,
      "outputs": []
    },
    {
      "cell_type": "code",
      "source": [
        "(unique, counts) = np.unique(Y, return_counts=True)\n",
        "print('Unique values of the target variable', unique)\n",
        "print('Counts of the target variable :', counts)"
      ],
      "metadata": {
        "colab": {
          "base_uri": "https://localhost:8080/"
        },
        "id": "WLAwjdg5WK3k",
        "outputId": "5490f20f-a967-4f86-c876-94af481fc2e9"
      },
      "execution_count": null,
      "outputs": [
        {
          "output_type": "stream",
          "name": "stdout",
          "text": [
            "Unique values of the target variable [0. 1.]\n",
            "Counts of the target variable : [10079 14275]\n"
          ]
        }
      ]
    },
    {
      "cell_type": "code",
      "source": [
        "sns.barplot(x=[0,1],y=[10010, 17561])\n",
        "plt.title('Target variable counts in dataset')\n",
        "plt.show()"
      ],
      "metadata": {
        "colab": {
          "base_uri": "https://localhost:8080/",
          "height": 284
        },
        "id": "Mi541mrKWgS_",
        "outputId": "83e4687b-1589-4eac-b0f7-447766efc570"
      },
      "execution_count": null,
      "outputs": [
        {
          "output_type": "display_data",
          "data": {
            "text/plain": [
              "<Figure size 432x288 with 1 Axes>"
            ],
            "image/png": "[encoded data removed]"
          },
          "metadata": {}
        }
      ]
    },
    {
      "cell_type": "code",
      "source": [
        "from sklearn.preprocessing import StandardScaler\n",
        "standardizer = StandardScaler()\n",
        "X = standardizer.fit_transform(X)"
      ],
      "metadata": {
        "id": "oofisksMbeGu"
      },
      "execution_count": null,
      "outputs": []
    },
    {
      "cell_type": "code",
      "source": [
        "from sklearn.model_selection import train_test_split\n",
        "\n",
        "X_train, X_test, y_train, y_test = train_test_split(X, Y , test_size=0.25, random_state=0)"
      ],
      "metadata": {
        "id": "ahDN3KbnbnQ-"
      },
      "execution_count": null,
      "outputs": []
    },
    {
      "cell_type": "code",
      "source": [
        "from sklearn.linear_model import LogisticRegression\n",
        "model = LogisticRegression()\n",
        "model.fit(X_train, y_train)"
      ],
      "metadata": {
        "colab": {
          "base_uri": "https://localhost:8080/"
        },
        "id": "xA7RaL4Ybxc6",
        "outputId": "b117c135-c640-4ec0-9f40-f48293532571"
      },
      "execution_count": null,
      "outputs": [
        {
          "output_type": "execute_result",
          "data": {
            "text/plain": [
              "LogisticRegression()"
            ]
          },
          "metadata": {},
          "execution_count": 28
        }
      ]
    },
    {
      "cell_type": "code",
      "source": [
        "predictions = model.predict(X_test)"
      ],
      "metadata": {
        "id": "YDqLvKcebxWN"
      },
      "execution_count": null,
      "outputs": []
    },
    {
      "cell_type": "code",
      "source": [
        "from sklearn.metrics import confusion_matrix\n",
        "\n",
        "cm = confusion_matrix(y_test, predictions)\n",
        "\n",
        "TN, FP, FN, TP = confusion_matrix(y_test, predictions).ravel()\n",
        "\n",
        "print('True Positive(TP)  = ', TP)\n",
        "print('False Positive(FP) = ', FP)\n",
        "print('True Negative(TN)  = ', TN)\n",
        "print('False Negative(FN) = ', FN)\n",
        "\n",
        "accuracy =  (TP+TN) /(TP+FP+TN+FN)\n",
        "\n",
        "print('Accuracy of the binary classification = {:0.3f}'.format(accuracy))"
      ],
      "metadata": {
        "colab": {
          "base_uri": "https://localhost:8080/"
        },
        "id": "Q6fpRBB-cEaf",
        "outputId": "c3a1eed5-2bbb-44f8-f2e9-ead3447928fe"
      },
      "execution_count": null,
      "outputs": [
        {
          "output_type": "stream",
          "name": "stdout",
          "text": [
            "True Positive(TP)  =  3412\n",
            "False Positive(FP) =  75\n",
            "True Negative(TN)  =  2485\n",
            "False Negative(FN) =  117\n",
            "Accuracy of the binary classification = 0.968\n"
          ]
        }
      ]
    },
    {
      "cell_type": "code",
      "source": [
        "models = {}\n",
        "\n",
        "# Logistic Regression\n",
        "from sklearn.linear_model import LogisticRegression\n",
        "models['Logistic Regression'] = LogisticRegression()\n",
        "\n",
        "# Support Vector Machines\n",
        "from sklearn.svm import LinearSVC\n",
        "models['Support Vector Machines'] = LinearSVC()\n",
        "\n",
        "# Decision Trees\n",
        "from sklearn.tree import DecisionTreeClassifier\n",
        "models['Decision Trees'] = DecisionTreeClassifier()\n",
        "\n",
        "# Random Forest\n",
        "from sklearn.ensemble import RandomForestClassifier\n",
        "models['Random Forest'] = RandomForestClassifier(\n",
        "    n_estimators = 300,\n",
        "    max_depth = 16,\n",
        "    criterion = \"entropy\",\n",
        "    min_samples_split = 5,\n",
        "    max_features = 1./3\n",
        "\n",
        ")\n",
        "\n",
        "# Naive Bayes\n",
        "from sklearn.naive_bayes import GaussianNB\n",
        "models['Naive Bayes'] = GaussianNB()\n",
        "\n",
        "# K-Nearest Neighbors\n",
        "from sklearn.neighbors import KNeighborsClassifier\n",
        "models['K-Nearest Neighbor'] = KNeighborsClassifier()\n",
        "from sklearn.metrics import accuracy_score, precision_score, recall_score\n",
        "\n",
        "accuracy, precision, recall = {}, {}, {}\n",
        "\n",
        "for key in models.keys():\n",
        "    \n",
        "    # Fit the classifier model\n",
        "    models[key].fit(X_train, y_train)\n",
        "    \n",
        "    # Prediction \n",
        "    predictions = models[key].predict(X_test)\n",
        "    \n",
        "    # Calculate Accuracy, Precision and Recall Metrics\n",
        "    accuracy[key] = accuracy_score(predictions, y_test)\n",
        "    precision[key] = precision_score(predictions, y_test)\n",
        "    recall[key] = recall_score(predictions, y_test)"
      ],
      "metadata": {
        "colab": {
          "base_uri": "https://localhost:8080/"
        },
        "id": "0JY07F9pcTm1",
        "outputId": "e20ec22a-a709-47fb-b068-f8b33aa29b13"
      },
      "execution_count": null,
      "outputs": [
        {
          "output_type": "stream",
          "name": "stderr",
          "text": [
            "/usr/local/lib/python3.7/dist-packages/sklearn/svm/_base.py:1208: ConvergenceWarning: Liblinear failed to converge, increase the number of iterations.\n",
            "  ConvergenceWarning,\n"
          ]
        }
      ]
    },
    {
      "cell_type": "code",
      "source": [
        "# Neural Networks\n",
        "from keras.models import Sequential\n",
        "from keras.layers import Dense\n",
        "\n",
        "model = Sequential() \n",
        "model.add(Dense(128, activation='relu', input_dim=33))\n",
        "model.add(Dense(1, activation='sigmoid')) \n",
        "model.compile(loss='binary_crossentropy', optimizer='adam', metrics=['accuracy']) \n",
        "model.summary()\n",
        "hist = model.fit(X_train, y_train, validation_data=(X_test, y_test), epochs=100, batch_size=100)\n"
      ],
      "metadata": {
        "colab": {
          "base_uri": "https://localhost:8080/"
        },
        "id": "61BYVYg4cgeI",
        "outputId": "63c80f9d-9df2-472e-f0e3-dec80ea780c1"
      },
      "execution_count": null,
      "outputs": [
        {
          "output_type": "stream",
          "name": "stdout",
          "text": [
            "Model: \"sequential_2\"\n",
            "_________________________________________________________________\n",
            " Layer (type)                Output Shape              Param #   \n",
            "=================================================================\n",
            " dense_6 (Dense)             (None, 128)               4352      \n",
            "                                                                 \n",
            " dense_7 (Dense)             (None, 1)                 129       \n",
            "                                                                 \n",
            "=================================================================\n",
            "Total params: 4,481\n",
            "Trainable params: 4,481\n",
            "Non-trainable params: 0\n",
            "_________________________________________________________________\n",
            "Epoch 1/100\n",
            "183/183 [==============================] - 1s 4ms/step - loss: 0.1327 - accuracy: 0.9603 - val_loss: 0.1069 - val_accuracy: 0.9676\n",
            "Epoch 2/100\n",
            "183/183 [==============================] - 1s 3ms/step - loss: 0.1057 - accuracy: 0.9680 - val_loss: 0.1034 - val_accuracy: 0.9683\n",
            "Epoch 3/100\n",
            "183/183 [==============================] - 1s 3ms/step - loss: 0.1029 - accuracy: 0.9696 - val_loss: 0.1008 - val_accuracy: 0.9683\n",
            "Epoch 4/100\n",
            "183/183 [==============================] - 1s 3ms/step - loss: 0.1005 - accuracy: 0.9697 - val_loss: 0.1025 - val_accuracy: 0.9696\n",
            "Epoch 5/100\n",
            "183/183 [==============================] - 1s 3ms/step - loss: 0.0989 - accuracy: 0.9703 - val_loss: 0.0988 - val_accuracy: 0.9690\n",
            "Epoch 6/100\n",
            "183/183 [==============================] - 1s 3ms/step - loss: 0.0972 - accuracy: 0.9711 - val_loss: 0.0982 - val_accuracy: 0.9695\n",
            "Epoch 7/100\n",
            "183/183 [==============================] - 1s 4ms/step - loss: 0.0951 - accuracy: 0.9715 - val_loss: 0.0974 - val_accuracy: 0.9701\n",
            "Epoch 8/100\n",
            "183/183 [==============================] - 1s 4ms/step - loss: 0.0937 - accuracy: 0.9727 - val_loss: 0.0957 - val_accuracy: 0.9699\n",
            "Epoch 9/100\n",
            "183/183 [==============================] - 1s 3ms/step - loss: 0.0921 - accuracy: 0.9724 - val_loss: 0.0947 - val_accuracy: 0.9699\n",
            "Epoch 10/100\n",
            "183/183 [==============================] - 1s 3ms/step - loss: 0.0908 - accuracy: 0.9730 - val_loss: 0.0940 - val_accuracy: 0.9698\n",
            "Epoch 11/100\n",
            "183/183 [==============================] - 1s 4ms/step - loss: 0.0899 - accuracy: 0.9733 - val_loss: 0.0928 - val_accuracy: 0.9701\n",
            "Epoch 12/100\n",
            "183/183 [==============================] - 1s 3ms/step - loss: 0.0888 - accuracy: 0.9739 - val_loss: 0.0923 - val_accuracy: 0.9693\n",
            "Epoch 13/100\n",
            "183/183 [==============================] - 0s 2ms/step - loss: 0.0873 - accuracy: 0.9748 - val_loss: 0.0914 - val_accuracy: 0.9693\n",
            "Epoch 14/100\n",
            "183/183 [==============================] - 1s 3ms/step - loss: 0.0861 - accuracy: 0.9749 - val_loss: 0.0918 - val_accuracy: 0.9704\n",
            "Epoch 15/100\n",
            "183/183 [==============================] - 1s 3ms/step - loss: 0.0857 - accuracy: 0.9754 - val_loss: 0.0903 - val_accuracy: 0.9701\n",
            "Epoch 16/100\n",
            "183/183 [==============================] - 0s 2ms/step - loss: 0.0849 - accuracy: 0.9755 - val_loss: 0.0907 - val_accuracy: 0.9699\n",
            "Epoch 17/100\n",
            "183/183 [==============================] - 1s 4ms/step - loss: 0.0848 - accuracy: 0.9758 - val_loss: 0.0900 - val_accuracy: 0.9706\n",
            "Epoch 18/100\n",
            "183/183 [==============================] - 1s 3ms/step - loss: 0.0833 - accuracy: 0.9763 - val_loss: 0.0883 - val_accuracy: 0.9709\n",
            "Epoch 19/100\n",
            "183/183 [==============================] - 1s 3ms/step - loss: 0.0826 - accuracy: 0.9761 - val_loss: 0.0888 - val_accuracy: 0.9708\n",
            "Epoch 20/100\n",
            "183/183 [==============================] - 1s 4ms/step - loss: 0.0818 - accuracy: 0.9763 - val_loss: 0.0894 - val_accuracy: 0.9708\n",
            "Epoch 21/100\n",
            "183/183 [==============================] - 1s 3ms/step - loss: 0.0820 - accuracy: 0.9767 - val_loss: 0.0901 - val_accuracy: 0.9708\n",
            "Epoch 22/100\n",
            "183/183 [==============================] - 1s 3ms/step - loss: 0.0810 - accuracy: 0.9768 - val_loss: 0.0877 - val_accuracy: 0.9708\n",
            "Epoch 23/100\n",
            "183/183 [==============================] - 1s 4ms/step - loss: 0.0802 - accuracy: 0.9766 - val_loss: 0.0882 - val_accuracy: 0.9706\n",
            "Epoch 24/100\n",
            "183/183 [==============================] - 1s 3ms/step - loss: 0.0798 - accuracy: 0.9773 - val_loss: 0.0882 - val_accuracy: 0.9714\n",
            "Epoch 25/100\n",
            "183/183 [==============================] - 1s 4ms/step - loss: 0.0798 - accuracy: 0.9773 - val_loss: 0.0887 - val_accuracy: 0.9716\n",
            "Epoch 26/100\n",
            "183/183 [==============================] - 1s 3ms/step - loss: 0.0795 - accuracy: 0.9768 - val_loss: 0.0862 - val_accuracy: 0.9708\n",
            "Epoch 27/100\n",
            "183/183 [==============================] - 1s 3ms/step - loss: 0.0785 - accuracy: 0.9773 - val_loss: 0.0862 - val_accuracy: 0.9721\n",
            "Epoch 28/100\n",
            "183/183 [==============================] - 1s 3ms/step - loss: 0.0781 - accuracy: 0.9777 - val_loss: 0.0858 - val_accuracy: 0.9718\n",
            "Epoch 29/100\n",
            "183/183 [==============================] - 1s 4ms/step - loss: 0.0777 - accuracy: 0.9777 - val_loss: 0.0857 - val_accuracy: 0.9719\n",
            "Epoch 30/100\n",
            "183/183 [==============================] - 1s 4ms/step - loss: 0.0772 - accuracy: 0.9780 - val_loss: 0.0904 - val_accuracy: 0.9713\n",
            "Epoch 31/100\n",
            "183/183 [==============================] - 1s 4ms/step - loss: 0.0775 - accuracy: 0.9774 - val_loss: 0.0852 - val_accuracy: 0.9714\n",
            "Epoch 32/100\n",
            "183/183 [==============================] - 1s 4ms/step - loss: 0.0763 - accuracy: 0.9777 - val_loss: 0.0891 - val_accuracy: 0.9734\n",
            "Epoch 33/100\n",
            "183/183 [==============================] - 1s 4ms/step - loss: 0.0767 - accuracy: 0.9781 - val_loss: 0.0870 - val_accuracy: 0.9722\n",
            "Epoch 34/100\n",
            "183/183 [==============================] - 1s 6ms/step - loss: 0.0758 - accuracy: 0.9779 - val_loss: 0.0864 - val_accuracy: 0.9714\n",
            "Epoch 35/100\n",
            "183/183 [==============================] - 1s 6ms/step - loss: 0.0757 - accuracy: 0.9780 - val_loss: 0.0856 - val_accuracy: 0.9719\n",
            "Epoch 36/100\n",
            "183/183 [==============================] - 1s 4ms/step - loss: 0.0751 - accuracy: 0.9785 - val_loss: 0.0847 - val_accuracy: 0.9718\n",
            "Epoch 37/100\n",
            "183/183 [==============================] - 1s 4ms/step - loss: 0.0741 - accuracy: 0.9783 - val_loss: 0.0851 - val_accuracy: 0.9719\n",
            "Epoch 38/100\n",
            "183/183 [==============================] - 1s 4ms/step - loss: 0.0743 - accuracy: 0.9784 - val_loss: 0.0844 - val_accuracy: 0.9734\n",
            "Epoch 39/100\n",
            "183/183 [==============================] - 1s 3ms/step - loss: 0.0741 - accuracy: 0.9785 - val_loss: 0.0864 - val_accuracy: 0.9722\n",
            "Epoch 40/100\n",
            "183/183 [==============================] - 0s 2ms/step - loss: 0.0732 - accuracy: 0.9789 - val_loss: 0.0872 - val_accuracy: 0.9729\n",
            "Epoch 41/100\n",
            "183/183 [==============================] - 0s 2ms/step - loss: 0.0735 - accuracy: 0.9791 - val_loss: 0.0851 - val_accuracy: 0.9722\n",
            "Epoch 42/100\n",
            "183/183 [==============================] - 0s 2ms/step - loss: 0.0735 - accuracy: 0.9786 - val_loss: 0.0845 - val_accuracy: 0.9726\n",
            "Epoch 43/100\n",
            "183/183 [==============================] - 1s 3ms/step - loss: 0.0737 - accuracy: 0.9788 - val_loss: 0.0892 - val_accuracy: 0.9716\n",
            "Epoch 44/100\n",
            "183/183 [==============================] - 1s 3ms/step - loss: 0.0725 - accuracy: 0.9792 - val_loss: 0.0862 - val_accuracy: 0.9718\n",
            "Epoch 45/100\n",
            "183/183 [==============================] - 1s 4ms/step - loss: 0.0722 - accuracy: 0.9795 - val_loss: 0.0844 - val_accuracy: 0.9726\n",
            "Epoch 46/100\n",
            "183/183 [==============================] - 1s 3ms/step - loss: 0.0723 - accuracy: 0.9790 - val_loss: 0.0868 - val_accuracy: 0.9731\n",
            "Epoch 47/100\n",
            "183/183 [==============================] - 1s 4ms/step - loss: 0.0726 - accuracy: 0.9794 - val_loss: 0.0850 - val_accuracy: 0.9719\n",
            "Epoch 48/100\n",
            "183/183 [==============================] - 1s 4ms/step - loss: 0.0708 - accuracy: 0.9798 - val_loss: 0.0849 - val_accuracy: 0.9732\n",
            "Epoch 49/100\n",
            "183/183 [==============================] - 1s 4ms/step - loss: 0.0712 - accuracy: 0.9792 - val_loss: 0.0868 - val_accuracy: 0.9724\n",
            "Epoch 50/100\n",
            "183/183 [==============================] - 1s 5ms/step - loss: 0.0705 - accuracy: 0.9797 - val_loss: 0.0833 - val_accuracy: 0.9724\n",
            "Epoch 51/100\n",
            "183/183 [==============================] - 1s 5ms/step - loss: 0.0699 - accuracy: 0.9795 - val_loss: 0.0833 - val_accuracy: 0.9726\n",
            "Epoch 52/100\n",
            "183/183 [==============================] - 1s 4ms/step - loss: 0.0699 - accuracy: 0.9798 - val_loss: 0.0865 - val_accuracy: 0.9721\n",
            "Epoch 53/100\n",
            "183/183 [==============================] - 1s 3ms/step - loss: 0.0705 - accuracy: 0.9798 - val_loss: 0.0838 - val_accuracy: 0.9736\n",
            "Epoch 54/100\n",
            "183/183 [==============================] - 1s 5ms/step - loss: 0.0694 - accuracy: 0.9798 - val_loss: 0.0846 - val_accuracy: 0.9731\n",
            "Epoch 55/100\n",
            "183/183 [==============================] - 1s 5ms/step - loss: 0.0694 - accuracy: 0.9798 - val_loss: 0.0851 - val_accuracy: 0.9719\n",
            "Epoch 56/100\n",
            "183/183 [==============================] - 1s 5ms/step - loss: 0.0675 - accuracy: 0.9800 - val_loss: 0.0860 - val_accuracy: 0.9721\n",
            "Epoch 57/100\n",
            "183/183 [==============================] - 1s 6ms/step - loss: 0.0694 - accuracy: 0.9801 - val_loss: 0.0842 - val_accuracy: 0.9726\n",
            "Epoch 58/100\n",
            "183/183 [==============================] - 1s 4ms/step - loss: 0.0684 - accuracy: 0.9802 - val_loss: 0.0852 - val_accuracy: 0.9736\n",
            "Epoch 59/100\n",
            "183/183 [==============================] - 1s 7ms/step - loss: 0.0692 - accuracy: 0.9795 - val_loss: 0.0849 - val_accuracy: 0.9734\n",
            "Epoch 60/100\n",
            "183/183 [==============================] - 1s 5ms/step - loss: 0.0678 - accuracy: 0.9800 - val_loss: 0.0853 - val_accuracy: 0.9716\n",
            "Epoch 61/100\n",
            "183/183 [==============================] - 1s 5ms/step - loss: 0.0676 - accuracy: 0.9806 - val_loss: 0.0845 - val_accuracy: 0.9727\n",
            "Epoch 62/100\n",
            "183/183 [==============================] - 1s 5ms/step - loss: 0.0684 - accuracy: 0.9804 - val_loss: 0.0889 - val_accuracy: 0.9726\n",
            "Epoch 63/100\n",
            "183/183 [==============================] - 1s 3ms/step - loss: 0.0680 - accuracy: 0.9806 - val_loss: 0.0867 - val_accuracy: 0.9722\n",
            "Epoch 64/100\n",
            "183/183 [==============================] - 0s 3ms/step - loss: 0.0674 - accuracy: 0.9812 - val_loss: 0.0909 - val_accuracy: 0.9729\n",
            "Epoch 65/100\n",
            "183/183 [==============================] - 1s 4ms/step - loss: 0.0673 - accuracy: 0.9813 - val_loss: 0.0864 - val_accuracy: 0.9727\n",
            "Epoch 66/100\n",
            "183/183 [==============================] - 1s 3ms/step - loss: 0.0663 - accuracy: 0.9808 - val_loss: 0.0847 - val_accuracy: 0.9721\n",
            "Epoch 67/100\n",
            "183/183 [==============================] - 1s 3ms/step - loss: 0.0658 - accuracy: 0.9811 - val_loss: 0.0844 - val_accuracy: 0.9726\n",
            "Epoch 68/100\n",
            "183/183 [==============================] - 1s 3ms/step - loss: 0.0657 - accuracy: 0.9811 - val_loss: 0.0840 - val_accuracy: 0.9732\n",
            "Epoch 69/100\n",
            "183/183 [==============================] - 1s 4ms/step - loss: 0.0653 - accuracy: 0.9810 - val_loss: 0.0838 - val_accuracy: 0.9734\n",
            "Epoch 70/100\n",
            "183/183 [==============================] - 1s 4ms/step - loss: 0.0655 - accuracy: 0.9812 - val_loss: 0.0836 - val_accuracy: 0.9734\n",
            "Epoch 71/100\n",
            "183/183 [==============================] - 1s 3ms/step - loss: 0.0659 - accuracy: 0.9811 - val_loss: 0.0846 - val_accuracy: 0.9729\n",
            "Epoch 72/100\n",
            "183/183 [==============================] - 1s 3ms/step - loss: 0.0652 - accuracy: 0.9815 - val_loss: 0.0850 - val_accuracy: 0.9724\n",
            "Epoch 73/100\n",
            "183/183 [==============================] - 1s 3ms/step - loss: 0.0649 - accuracy: 0.9813 - val_loss: 0.0873 - val_accuracy: 0.9722\n",
            "Epoch 74/100\n",
            "183/183 [==============================] - 1s 3ms/step - loss: 0.0650 - accuracy: 0.9817 - val_loss: 0.0863 - val_accuracy: 0.9732\n",
            "Epoch 75/100\n",
            "183/183 [==============================] - 1s 4ms/step - loss: 0.0641 - accuracy: 0.9813 - val_loss: 0.0839 - val_accuracy: 0.9732\n",
            "Epoch 76/100\n",
            "183/183 [==============================] - 1s 3ms/step - loss: 0.0638 - accuracy: 0.9814 - val_loss: 0.0852 - val_accuracy: 0.9722\n",
            "Epoch 77/100\n",
            "183/183 [==============================] - 1s 3ms/step - loss: 0.0641 - accuracy: 0.9812 - val_loss: 0.0842 - val_accuracy: 0.9729\n",
            "Epoch 78/100\n",
            "183/183 [==============================] - 1s 3ms/step - loss: 0.0632 - accuracy: 0.9823 - val_loss: 0.0843 - val_accuracy: 0.9729\n",
            "Epoch 79/100\n",
            "183/183 [==============================] - 1s 4ms/step - loss: 0.0630 - accuracy: 0.9815 - val_loss: 0.0846 - val_accuracy: 0.9731\n",
            "Epoch 80/100\n",
            "183/183 [==============================] - 1s 3ms/step - loss: 0.0632 - accuracy: 0.9819 - val_loss: 0.0837 - val_accuracy: 0.9729\n",
            "Epoch 81/100\n",
            "183/183 [==============================] - 1s 4ms/step - loss: 0.0627 - accuracy: 0.9820 - val_loss: 0.0836 - val_accuracy: 0.9727\n",
            "Epoch 82/100\n",
            "183/183 [==============================] - 1s 4ms/step - loss: 0.0615 - accuracy: 0.9825 - val_loss: 0.0854 - val_accuracy: 0.9724\n",
            "Epoch 83/100\n",
            "183/183 [==============================] - 1s 3ms/step - loss: 0.0617 - accuracy: 0.9824 - val_loss: 0.0866 - val_accuracy: 0.9726\n",
            "Epoch 84/100\n",
            "183/183 [==============================] - 1s 3ms/step - loss: 0.0617 - accuracy: 0.9826 - val_loss: 0.0855 - val_accuracy: 0.9724\n",
            "Epoch 85/100\n",
            "183/183 [==============================] - 1s 4ms/step - loss: 0.0609 - accuracy: 0.9826 - val_loss: 0.0859 - val_accuracy: 0.9736\n",
            "Epoch 86/100\n",
            "183/183 [==============================] - 1s 3ms/step - loss: 0.0625 - accuracy: 0.9821 - val_loss: 0.0843 - val_accuracy: 0.9734\n",
            "Epoch 87/100\n",
            "183/183 [==============================] - 1s 3ms/step - loss: 0.0614 - accuracy: 0.9823 - val_loss: 0.0893 - val_accuracy: 0.9729\n",
            "Epoch 88/100\n",
            "183/183 [==============================] - 0s 3ms/step - loss: 0.0604 - accuracy: 0.9822 - val_loss: 0.0916 - val_accuracy: 0.9722\n",
            "Epoch 89/100\n",
            "183/183 [==============================] - 0s 2ms/step - loss: 0.0617 - accuracy: 0.9825 - val_loss: 0.0853 - val_accuracy: 0.9726\n",
            "Epoch 90/100\n",
            "183/183 [==============================] - 0s 2ms/step - loss: 0.0603 - accuracy: 0.9830 - val_loss: 0.0851 - val_accuracy: 0.9722\n",
            "Epoch 91/100\n",
            "183/183 [==============================] - 0s 2ms/step - loss: 0.0598 - accuracy: 0.9826 - val_loss: 0.0861 - val_accuracy: 0.9729\n",
            "Epoch 92/100\n",
            "183/183 [==============================] - 1s 3ms/step - loss: 0.0622 - accuracy: 0.9823 - val_loss: 0.0893 - val_accuracy: 0.9716\n",
            "Epoch 93/100\n",
            "183/183 [==============================] - 0s 2ms/step - loss: 0.0599 - accuracy: 0.9825 - val_loss: 0.0851 - val_accuracy: 0.9731\n",
            "Epoch 94/100\n",
            "183/183 [==============================] - 1s 3ms/step - loss: 0.0602 - accuracy: 0.9830 - val_loss: 0.0851 - val_accuracy: 0.9729\n",
            "Epoch 95/100\n",
            "183/183 [==============================] - 1s 3ms/step - loss: 0.0594 - accuracy: 0.9826 - val_loss: 0.0871 - val_accuracy: 0.9736\n",
            "Epoch 96/100\n",
            "183/183 [==============================] - 0s 3ms/step - loss: 0.0595 - accuracy: 0.9830 - val_loss: 0.0885 - val_accuracy: 0.9719\n",
            "Epoch 97/100\n",
            "183/183 [==============================] - 1s 3ms/step - loss: 0.0585 - accuracy: 0.9825 - val_loss: 0.0870 - val_accuracy: 0.9736\n",
            "Epoch 98/100\n",
            "183/183 [==============================] - 1s 3ms/step - loss: 0.0578 - accuracy: 0.9832 - val_loss: 0.0923 - val_accuracy: 0.9729\n",
            "Epoch 99/100\n",
            "183/183 [==============================] - 1s 3ms/step - loss: 0.0602 - accuracy: 0.9829 - val_loss: 0.0874 - val_accuracy: 0.9737\n",
            "Epoch 100/100\n",
            "183/183 [==============================] - 1s 3ms/step - loss: 0.0584 - accuracy: 0.9832 - val_loss: 0.0857 - val_accuracy: 0.9727\n"
          ]
        }
      ]
    },
    {
      "cell_type": "code",
      "source": [
        "import seaborn as sns\n",
        "import matplotlib.pyplot as plt\n",
        "%matplotlib inline\n",
        "\n",
        "sns.set()\n",
        "acc = hist.history['accuracy']\n",
        "val = hist.history['val_accuracy']\n",
        "epochs = range(1, len(acc) + 1)\n",
        "\n",
        "plt.plot(epochs, acc, '-', label='Training accuracy')\n",
        "plt.plot(epochs, val, ':', label='Validation accuracy')\n",
        "plt.title('Training and Validation Accuracy')\n",
        "plt.xlabel('Epoch')\n",
        "plt.ylabel('Accuracy')\n",
        "plt.legend(loc='lower right')\n",
        "plt.plot()"
      ],
      "metadata": {
        "colab": {
          "base_uri": "https://localhost:8080/",
          "height": 318
        },
        "id": "nn6ise2xnpjJ",
        "outputId": "a5aa6d9e-3d33-4cdb-ff87-26f00ff67233"
      },
      "execution_count": null,
      "outputs": [
        {
          "output_type": "execute_result",
          "data": {
            "text/plain": [
              "[]"
            ]
          },
          "metadata": {},
          "execution_count": 33
        },
        {
          "output_type": "display_data",
          "data": {
            "text/plain": [
              "<Figure size 432x288 with 1 Axes>"
            ],
            "image/png": "[encoded data removed]"
          },
          "metadata": {}
        }
      ]
    },
    {
      "cell_type": "code",
      "source": [
        "from sklearn.metrics import confusion_matrix\n",
        "predictions = model.predict(X_test) > 0.5\n",
        "cm = confusion_matrix(y_test, predictions)\n",
        "\n",
        "TN, FP, FN, TP = confusion_matrix(y_test, predictions).ravel()\n",
        "\n",
        "print('True Positive(TP)  = ', TP)\n",
        "print('False Positive(FP) = ', FP)\n",
        "print('True Negative(TN)  = ', TN)\n",
        "print('False Negative(FN) = ', FN)\n",
        "\n",
        "accuracy_keras =  (TP+TN) /(TP+FP+TN+FN)\n",
        "\n",
        "print('Accuracy of the binary classification = {:0.3f}'.format(accuracy_keras))"
      ],
      "metadata": {
        "colab": {
          "base_uri": "https://localhost:8080/"
        },
        "id": "XVxIiTmHnzYU",
        "outputId": "e8bc7e04-090a-40d2-ce47-171419ea13f8"
      },
      "execution_count": null,
      "outputs": [
        {
          "output_type": "stream",
          "name": "stdout",
          "text": [
            "191/191 [==============================] - 0s 1ms/step\n",
            "True Positive(TP)  =  3436\n",
            "False Positive(FP) =  73\n",
            "True Negative(TN)  =  2487\n",
            "False Negative(FN) =  93\n",
            "Accuracy of the binary classification = 0.973\n"
          ]
        }
      ]
    },
    {
      "cell_type": "code",
      "source": [
        "from keras.models import Sequential\n",
        "from keras.layers import Dense\n",
        "from keras.layers import Dropout\n",
        "\n",
        "model = Sequential() \n",
        "#model.add(Dense(128, activation='relu', input_dim=30))\n",
        "model.add(Dense(33, input_dim=33, activation='relu'))\n",
        "model.add(Dense(20, activation='relu'))\n",
        "model.add(Dropout(rate=0.25))\n",
        "model.add(Dense(15, activation='relu'))\n",
        "model.add(Dropout(rate=0.25))\n",
        "model.add(Dense(1, activation='sigmoid')) \n",
        "model.compile(loss='binary_crossentropy', optimizer='adam', metrics=['accuracy']) \n",
        "model.summary()\n",
        "hist = model.fit(X_train, y_train, validation_data=(X_test, y_test), epochs=100, batch_size=100)\n"
      ],
      "metadata": {
        "colab": {
          "base_uri": "https://localhost:8080/"
        },
        "id": "OTxSQrfgcxcF",
        "outputId": "b66b9d88-c501-41a5-cdf6-05cff3bf83bd"
      },
      "execution_count": null,
      "outputs": [
        {
          "output_type": "stream",
          "name": "stdout",
          "text": [
            "Model: \"sequential_6\"\n",
            "_________________________________________________________________\n",
            " Layer (type)                Output Shape              Param #   \n",
            "=================================================================\n",
            " dense_14 (Dense)            (None, 16)                544       \n",
            "                                                                 \n",
            " dense_15 (Dense)            (None, 20)                340       \n",
            "                                                                 \n",
            " dropout (Dropout)           (None, 20)                0         \n",
            "                                                                 \n",
            " dense_16 (Dense)            (None, 15)                315       \n",
            "                                                                 \n",
            " dropout_1 (Dropout)         (None, 15)                0         \n",
            "                                                                 \n",
            " dense_17 (Dense)            (None, 1)                 16        \n",
            "                                                                 \n",
            "=================================================================\n",
            "Total params: 1,215\n",
            "Trainable params: 1,215\n",
            "Non-trainable params: 0\n",
            "_________________________________________________________________\n",
            "Epoch 1/100\n",
            "183/183 [==============================] - 1s 4ms/step - loss: 0.3229 - accuracy: 0.8831 - val_loss: 0.1139 - val_accuracy: 0.9668\n",
            "Epoch 2/100\n",
            "183/183 [==============================] - 1s 4ms/step - loss: 0.1378 - accuracy: 0.9655 - val_loss: 0.1098 - val_accuracy: 0.9680\n",
            "Epoch 3/100\n",
            "183/183 [==============================] - 2s 9ms/step - loss: 0.1303 - accuracy: 0.9674 - val_loss: 0.1046 - val_accuracy: 0.9683\n",
            "Epoch 4/100\n",
            "183/183 [==============================] - 1s 3ms/step - loss: 0.1226 - accuracy: 0.9680 - val_loss: 0.1042 - val_accuracy: 0.9683\n",
            "Epoch 5/100\n",
            "183/183 [==============================] - 1s 3ms/step - loss: 0.1176 - accuracy: 0.9679 - val_loss: 0.1023 - val_accuracy: 0.9688\n",
            "Epoch 6/100\n",
            "183/183 [==============================] - 1s 4ms/step - loss: 0.1183 - accuracy: 0.9686 - val_loss: 0.1010 - val_accuracy: 0.9690\n",
            "Epoch 7/100\n",
            "183/183 [==============================] - 1s 3ms/step - loss: 0.1154 - accuracy: 0.9693 - val_loss: 0.1011 - val_accuracy: 0.9683\n",
            "Epoch 8/100\n",
            "183/183 [==============================] - 0s 3ms/step - loss: 0.1114 - accuracy: 0.9699 - val_loss: 0.0986 - val_accuracy: 0.9690\n",
            "Epoch 9/100\n",
            "183/183 [==============================] - 1s 3ms/step - loss: 0.1130 - accuracy: 0.9693 - val_loss: 0.0980 - val_accuracy: 0.9699\n",
            "Epoch 10/100\n",
            "183/183 [==============================] - 1s 3ms/step - loss: 0.1108 - accuracy: 0.9698 - val_loss: 0.0975 - val_accuracy: 0.9699\n",
            "Epoch 11/100\n",
            "183/183 [==============================] - 1s 4ms/step - loss: 0.1075 - accuracy: 0.9705 - val_loss: 0.0963 - val_accuracy: 0.9699\n",
            "Epoch 12/100\n",
            "183/183 [==============================] - 1s 7ms/step - loss: 0.1065 - accuracy: 0.9703 - val_loss: 0.0970 - val_accuracy: 0.9699\n",
            "Epoch 13/100\n",
            "183/183 [==============================] - 1s 7ms/step - loss: 0.1057 - accuracy: 0.9716 - val_loss: 0.0948 - val_accuracy: 0.9703\n",
            "Epoch 14/100\n",
            "183/183 [==============================] - 1s 5ms/step - loss: 0.1033 - accuracy: 0.9721 - val_loss: 0.0944 - val_accuracy: 0.9704\n",
            "Epoch 15/100\n",
            "183/183 [==============================] - 1s 3ms/step - loss: 0.1027 - accuracy: 0.9717 - val_loss: 0.0938 - val_accuracy: 0.9703\n",
            "Epoch 16/100\n",
            "183/183 [==============================] - 1s 3ms/step - loss: 0.1011 - accuracy: 0.9719 - val_loss: 0.0946 - val_accuracy: 0.9708\n",
            "Epoch 17/100\n",
            "183/183 [==============================] - 1s 4ms/step - loss: 0.1002 - accuracy: 0.9715 - val_loss: 0.0929 - val_accuracy: 0.9706\n",
            "Epoch 18/100\n",
            "183/183 [==============================] - 1s 4ms/step - loss: 0.0994 - accuracy: 0.9732 - val_loss: 0.0960 - val_accuracy: 0.9696\n",
            "Epoch 19/100\n",
            "183/183 [==============================] - 1s 4ms/step - loss: 0.1010 - accuracy: 0.9726 - val_loss: 0.0930 - val_accuracy: 0.9708\n",
            "Epoch 20/100\n",
            "183/183 [==============================] - 1s 4ms/step - loss: 0.0987 - accuracy: 0.9731 - val_loss: 0.0946 - val_accuracy: 0.9709\n",
            "Epoch 21/100\n",
            "183/183 [==============================] - 1s 4ms/step - loss: 0.0974 - accuracy: 0.9739 - val_loss: 0.0912 - val_accuracy: 0.9709\n",
            "Epoch 22/100\n",
            "183/183 [==============================] - 1s 4ms/step - loss: 0.0960 - accuracy: 0.9733 - val_loss: 0.0921 - val_accuracy: 0.9711\n",
            "Epoch 23/100\n",
            "183/183 [==============================] - 1s 4ms/step - loss: 0.0960 - accuracy: 0.9728 - val_loss: 0.0899 - val_accuracy: 0.9713\n",
            "Epoch 24/100\n",
            "183/183 [==============================] - 1s 3ms/step - loss: 0.0961 - accuracy: 0.9743 - val_loss: 0.0891 - val_accuracy: 0.9716\n",
            "Epoch 25/100\n",
            "183/183 [==============================] - 0s 3ms/step - loss: 0.0933 - accuracy: 0.9739 - val_loss: 0.0887 - val_accuracy: 0.9716\n",
            "Epoch 26/100\n",
            "183/183 [==============================] - 1s 3ms/step - loss: 0.0916 - accuracy: 0.9745 - val_loss: 0.0890 - val_accuracy: 0.9722\n",
            "Epoch 27/100\n",
            "183/183 [==============================] - 1s 3ms/step - loss: 0.0917 - accuracy: 0.9744 - val_loss: 0.0892 - val_accuracy: 0.9726\n",
            "Epoch 28/100\n",
            "183/183 [==============================] - 1s 3ms/step - loss: 0.0903 - accuracy: 0.9749 - val_loss: 0.0900 - val_accuracy: 0.9718\n",
            "Epoch 29/100\n",
            "183/183 [==============================] - 1s 3ms/step - loss: 0.0934 - accuracy: 0.9750 - val_loss: 0.0896 - val_accuracy: 0.9729\n",
            "Epoch 30/100\n",
            "183/183 [==============================] - 1s 3ms/step - loss: 0.0902 - accuracy: 0.9751 - val_loss: 0.0889 - val_accuracy: 0.9721\n",
            "Epoch 31/100\n",
            "183/183 [==============================] - 0s 3ms/step - loss: 0.0911 - accuracy: 0.9756 - val_loss: 0.0897 - val_accuracy: 0.9713\n",
            "Epoch 32/100\n",
            "183/183 [==============================] - 1s 3ms/step - loss: 0.0912 - accuracy: 0.9745 - val_loss: 0.0897 - val_accuracy: 0.9724\n",
            "Epoch 33/100\n",
            "183/183 [==============================] - 0s 3ms/step - loss: 0.0891 - accuracy: 0.9752 - val_loss: 0.0902 - val_accuracy: 0.9711\n",
            "Epoch 34/100\n",
            "183/183 [==============================] - 0s 3ms/step - loss: 0.0907 - accuracy: 0.9754 - val_loss: 0.0873 - val_accuracy: 0.9724\n",
            "Epoch 35/100\n",
            "183/183 [==============================] - 1s 4ms/step - loss: 0.0893 - accuracy: 0.9756 - val_loss: 0.0872 - val_accuracy: 0.9727\n",
            "Epoch 36/100\n",
            "183/183 [==============================] - 1s 4ms/step - loss: 0.0861 - accuracy: 0.9763 - val_loss: 0.0902 - val_accuracy: 0.9721\n",
            "Epoch 37/100\n",
            "183/183 [==============================] - 1s 4ms/step - loss: 0.0880 - accuracy: 0.9767 - val_loss: 0.0876 - val_accuracy: 0.9734\n",
            "Epoch 38/100\n",
            "183/183 [==============================] - 1s 4ms/step - loss: 0.0873 - accuracy: 0.9762 - val_loss: 0.0882 - val_accuracy: 0.9736\n",
            "Epoch 39/100\n",
            "183/183 [==============================] - 1s 3ms/step - loss: 0.0872 - accuracy: 0.9760 - val_loss: 0.0888 - val_accuracy: 0.9729\n",
            "Epoch 40/100\n",
            "183/183 [==============================] - 1s 3ms/step - loss: 0.0855 - accuracy: 0.9768 - val_loss: 0.0879 - val_accuracy: 0.9714\n",
            "Epoch 41/100\n",
            "183/183 [==============================] - 1s 3ms/step - loss: 0.0873 - accuracy: 0.9762 - val_loss: 0.0865 - val_accuracy: 0.9716\n",
            "Epoch 42/100\n",
            "183/183 [==============================] - 1s 3ms/step - loss: 0.0864 - accuracy: 0.9770 - val_loss: 0.0865 - val_accuracy: 0.9722\n",
            "Epoch 43/100\n",
            "183/183 [==============================] - 1s 3ms/step - loss: 0.0859 - accuracy: 0.9767 - val_loss: 0.0888 - val_accuracy: 0.9718\n",
            "Epoch 44/100\n",
            "183/183 [==============================] - 1s 3ms/step - loss: 0.0860 - accuracy: 0.9768 - val_loss: 0.0880 - val_accuracy: 0.9729\n",
            "Epoch 45/100\n",
            "183/183 [==============================] - 1s 8ms/step - loss: 0.0852 - accuracy: 0.9773 - val_loss: 0.0860 - val_accuracy: 0.9731\n",
            "Epoch 46/100\n",
            "183/183 [==============================] - 1s 4ms/step - loss: 0.0858 - accuracy: 0.9771 - val_loss: 0.0869 - val_accuracy: 0.9737\n",
            "Epoch 47/100\n",
            "183/183 [==============================] - 1s 5ms/step - loss: 0.0836 - accuracy: 0.9776 - val_loss: 0.0881 - val_accuracy: 0.9739\n",
            "Epoch 48/100\n",
            "183/183 [==============================] - 1s 7ms/step - loss: 0.0864 - accuracy: 0.9761 - val_loss: 0.0892 - val_accuracy: 0.9739\n",
            "Epoch 49/100\n",
            "183/183 [==============================] - 1s 3ms/step - loss: 0.0845 - accuracy: 0.9766 - val_loss: 0.0862 - val_accuracy: 0.9737\n",
            "Epoch 50/100\n",
            "183/183 [==============================] - 1s 4ms/step - loss: 0.0837 - accuracy: 0.9776 - val_loss: 0.0864 - val_accuracy: 0.9752\n",
            "Epoch 51/100\n",
            "183/183 [==============================] - 1s 4ms/step - loss: 0.0827 - accuracy: 0.9776 - val_loss: 0.0866 - val_accuracy: 0.9736\n",
            "Epoch 52/100\n",
            "183/183 [==============================] - 1s 4ms/step - loss: 0.0862 - accuracy: 0.9771 - val_loss: 0.0879 - val_accuracy: 0.9737\n",
            "Epoch 53/100\n",
            "183/183 [==============================] - 1s 3ms/step - loss: 0.0827 - accuracy: 0.9774 - val_loss: 0.0873 - val_accuracy: 0.9739\n",
            "Epoch 54/100\n",
            "183/183 [==============================] - 1s 4ms/step - loss: 0.0823 - accuracy: 0.9777 - val_loss: 0.0854 - val_accuracy: 0.9741\n",
            "Epoch 55/100\n",
            "183/183 [==============================] - 1s 4ms/step - loss: 0.0817 - accuracy: 0.9777 - val_loss: 0.0870 - val_accuracy: 0.9734\n",
            "Epoch 56/100\n",
            "183/183 [==============================] - 1s 4ms/step - loss: 0.0836 - accuracy: 0.9772 - val_loss: 0.0857 - val_accuracy: 0.9752\n",
            "Epoch 57/100\n",
            "183/183 [==============================] - 1s 5ms/step - loss: 0.0822 - accuracy: 0.9781 - val_loss: 0.0870 - val_accuracy: 0.9744\n",
            "Epoch 58/100\n",
            "183/183 [==============================] - 1s 5ms/step - loss: 0.0817 - accuracy: 0.9777 - val_loss: 0.0858 - val_accuracy: 0.9745\n",
            "Epoch 59/100\n",
            "183/183 [==============================] - 1s 4ms/step - loss: 0.0830 - accuracy: 0.9777 - val_loss: 0.0861 - val_accuracy: 0.9752\n",
            "Epoch 60/100\n",
            "183/183 [==============================] - 1s 4ms/step - loss: 0.0848 - accuracy: 0.9771 - val_loss: 0.0857 - val_accuracy: 0.9742\n",
            "Epoch 61/100\n",
            "183/183 [==============================] - 1s 4ms/step - loss: 0.0827 - accuracy: 0.9778 - val_loss: 0.0859 - val_accuracy: 0.9739\n",
            "Epoch 62/100\n",
            "183/183 [==============================] - 0s 3ms/step - loss: 0.0807 - accuracy: 0.9774 - val_loss: 0.0851 - val_accuracy: 0.9745\n",
            "Epoch 63/100\n",
            "183/183 [==============================] - 1s 3ms/step - loss: 0.0815 - accuracy: 0.9784 - val_loss: 0.0857 - val_accuracy: 0.9744\n",
            "Epoch 64/100\n",
            "183/183 [==============================] - 1s 4ms/step - loss: 0.0802 - accuracy: 0.9781 - val_loss: 0.0848 - val_accuracy: 0.9742\n",
            "Epoch 65/100\n",
            "183/183 [==============================] - 1s 4ms/step - loss: 0.0801 - accuracy: 0.9782 - val_loss: 0.0864 - val_accuracy: 0.9742\n",
            "Epoch 66/100\n",
            "183/183 [==============================] - 1s 4ms/step - loss: 0.0806 - accuracy: 0.9779 - val_loss: 0.0868 - val_accuracy: 0.9745\n",
            "Epoch 67/100\n",
            "183/183 [==============================] - 1s 4ms/step - loss: 0.0788 - accuracy: 0.9785 - val_loss: 0.0876 - val_accuracy: 0.9745\n",
            "Epoch 68/100\n",
            "183/183 [==============================] - 1s 4ms/step - loss: 0.0818 - accuracy: 0.9776 - val_loss: 0.0846 - val_accuracy: 0.9747\n",
            "Epoch 69/100\n",
            "183/183 [==============================] - 1s 5ms/step - loss: 0.0802 - accuracy: 0.9785 - val_loss: 0.0867 - val_accuracy: 0.9744\n",
            "Epoch 70/100\n",
            "183/183 [==============================] - 1s 4ms/step - loss: 0.0787 - accuracy: 0.9783 - val_loss: 0.0855 - val_accuracy: 0.9750\n",
            "Epoch 71/100\n",
            "183/183 [==============================] - 1s 4ms/step - loss: 0.0798 - accuracy: 0.9783 - val_loss: 0.0885 - val_accuracy: 0.9747\n",
            "Epoch 72/100\n",
            "183/183 [==============================] - 1s 4ms/step - loss: 0.0774 - accuracy: 0.9791 - val_loss: 0.0863 - val_accuracy: 0.9741\n",
            "Epoch 73/100\n",
            "183/183 [==============================] - 1s 4ms/step - loss: 0.0786 - accuracy: 0.9784 - val_loss: 0.0844 - val_accuracy: 0.9744\n",
            "Epoch 74/100\n",
            "183/183 [==============================] - 1s 3ms/step - loss: 0.0774 - accuracy: 0.9782 - val_loss: 0.0857 - val_accuracy: 0.9749\n",
            "Epoch 75/100\n",
            "183/183 [==============================] - 1s 3ms/step - loss: 0.0800 - accuracy: 0.9778 - val_loss: 0.0867 - val_accuracy: 0.9742\n",
            "Epoch 76/100\n",
            "183/183 [==============================] - 1s 4ms/step - loss: 0.0779 - accuracy: 0.9785 - val_loss: 0.0861 - val_accuracy: 0.9750\n",
            "Epoch 77/100\n",
            "183/183 [==============================] - 1s 4ms/step - loss: 0.0774 - accuracy: 0.9787 - val_loss: 0.0868 - val_accuracy: 0.9742\n",
            "Epoch 78/100\n",
            "183/183 [==============================] - 1s 4ms/step - loss: 0.0797 - accuracy: 0.9784 - val_loss: 0.0863 - val_accuracy: 0.9749\n",
            "Epoch 79/100\n",
            "183/183 [==============================] - 1s 3ms/step - loss: 0.0771 - accuracy: 0.9790 - val_loss: 0.0857 - val_accuracy: 0.9749\n",
            "Epoch 80/100\n",
            "183/183 [==============================] - 1s 3ms/step - loss: 0.0775 - accuracy: 0.9789 - val_loss: 0.0854 - val_accuracy: 0.9750\n",
            "Epoch 81/100\n",
            "183/183 [==============================] - 1s 3ms/step - loss: 0.0788 - accuracy: 0.9781 - val_loss: 0.0852 - val_accuracy: 0.9747\n",
            "Epoch 82/100\n",
            "183/183 [==============================] - 0s 3ms/step - loss: 0.0782 - accuracy: 0.9789 - val_loss: 0.0864 - val_accuracy: 0.9752\n",
            "Epoch 83/100\n",
            "183/183 [==============================] - 0s 3ms/step - loss: 0.0770 - accuracy: 0.9793 - val_loss: 0.0867 - val_accuracy: 0.9742\n",
            "Epoch 84/100\n",
            "183/183 [==============================] - 1s 3ms/step - loss: 0.0777 - accuracy: 0.9788 - val_loss: 0.0845 - val_accuracy: 0.9744\n",
            "Epoch 85/100\n",
            "183/183 [==============================] - 1s 4ms/step - loss: 0.0773 - accuracy: 0.9784 - val_loss: 0.0856 - val_accuracy: 0.9742\n",
            "Epoch 86/100\n",
            "183/183 [==============================] - 1s 4ms/step - loss: 0.0769 - accuracy: 0.9795 - val_loss: 0.0859 - val_accuracy: 0.9742\n",
            "Epoch 87/100\n",
            "183/183 [==============================] - 1s 4ms/step - loss: 0.0766 - accuracy: 0.9798 - val_loss: 0.0867 - val_accuracy: 0.9745\n",
            "Epoch 88/100\n",
            "183/183 [==============================] - 1s 4ms/step - loss: 0.0761 - accuracy: 0.9790 - val_loss: 0.0861 - val_accuracy: 0.9742\n",
            "Epoch 89/100\n",
            "183/183 [==============================] - 1s 4ms/step - loss: 0.0774 - accuracy: 0.9792 - val_loss: 0.0855 - val_accuracy: 0.9747\n",
            "Epoch 90/100\n",
            "183/183 [==============================] - 1s 4ms/step - loss: 0.0778 - accuracy: 0.9791 - val_loss: 0.0844 - val_accuracy: 0.9745\n",
            "Epoch 91/100\n",
            "183/183 [==============================] - 1s 4ms/step - loss: 0.0770 - accuracy: 0.9794 - val_loss: 0.0862 - val_accuracy: 0.9749\n",
            "Epoch 92/100\n",
            "183/183 [==============================] - 1s 4ms/step - loss: 0.0769 - accuracy: 0.9795 - val_loss: 0.0869 - val_accuracy: 0.9736\n",
            "Epoch 93/100\n",
            "183/183 [==============================] - 1s 4ms/step - loss: 0.0786 - accuracy: 0.9786 - val_loss: 0.0850 - val_accuracy: 0.9754\n",
            "Epoch 94/100\n",
            "183/183 [==============================] - 1s 3ms/step - loss: 0.0744 - accuracy: 0.9789 - val_loss: 0.0885 - val_accuracy: 0.9736\n",
            "Epoch 95/100\n",
            "183/183 [==============================] - 1s 3ms/step - loss: 0.0753 - accuracy: 0.9787 - val_loss: 0.0872 - val_accuracy: 0.9745\n",
            "Epoch 96/100\n",
            "183/183 [==============================] - 1s 3ms/step - loss: 0.0772 - accuracy: 0.9791 - val_loss: 0.0862 - val_accuracy: 0.9737\n",
            "Epoch 97/100\n",
            "183/183 [==============================] - 1s 3ms/step - loss: 0.0773 - accuracy: 0.9784 - val_loss: 0.0848 - val_accuracy: 0.9752\n",
            "Epoch 98/100\n",
            "183/183 [==============================] - 1s 4ms/step - loss: 0.0783 - accuracy: 0.9784 - val_loss: 0.0848 - val_accuracy: 0.9742\n",
            "Epoch 99/100\n",
            "183/183 [==============================] - 1s 6ms/step - loss: 0.0763 - accuracy: 0.9800 - val_loss: 0.0869 - val_accuracy: 0.9739\n",
            "Epoch 100/100\n",
            "183/183 [==============================] - 1s 8ms/step - loss: 0.0743 - accuracy: 0.9793 - val_loss: 0.0888 - val_accuracy: 0.9745\n"
          ]
        }
      ]
    },
    {
      "cell_type": "code",
      "source": [],
      "metadata": {
        "id": "-LPhCIHAnkQa"
      },
      "execution_count": null,
      "outputs": []
    },
    {
      "cell_type": "code",
      "source": [
        "import seaborn as sns\n",
        "import matplotlib.pyplot as plt\n",
        "%matplotlib inline\n",
        "\n",
        "sns.set()\n",
        "acc = hist.history['accuracy']\n",
        "val = hist.history['val_accuracy']\n",
        "epochs = range(1, len(acc) + 1)\n",
        "\n",
        "plt.plot(epochs, acc, '-', label='Training accuracy')\n",
        "plt.plot(epochs, val, ':', label='Validation accuracy')\n",
        "plt.title('Training and Validation Accuracy')\n",
        "plt.xlabel('Epoch')\n",
        "plt.ylabel('Accuracy')\n",
        "plt.legend(loc='lower right')\n",
        "plt.plot()"
      ],
      "metadata": {
        "colab": {
          "base_uri": "https://localhost:8080/",
          "height": 318
        },
        "id": "jYrW_l-tgIbM",
        "outputId": "a5041a66-0879-4aa3-d27c-260e05e7164b"
      },
      "execution_count": null,
      "outputs": [
        {
          "output_type": "execute_result",
          "data": {
            "text/plain": [
              "[]"
            ]
          },
          "metadata": {},
          "execution_count": 40
        },
        {
          "output_type": "display_data",
          "data": {
            "text/plain": [
              "<Figure size 432x288 with 1 Axes>"
            ],
            "image/png": "[encoded data removed]"
          },
          "metadata": {}
        }
      ]
    },
    {
      "cell_type": "code",
      "source": [
        "from sklearn.metrics import confusion_matrix\n",
        "predictions = model.predict(X_test) > 0.5\n",
        "cm = confusion_matrix(y_test, predictions)\n",
        "\n",
        "TN, FP, FN, TP = confusion_matrix(y_test, predictions).ravel()\n",
        "\n",
        "print('True Positive(TP)  = ', TP)\n",
        "print('False Positive(FP) = ', FP)\n",
        "print('True Negative(TN)  = ', TN)\n",
        "print('False Negative(FN) = ', FN)\n",
        "\n",
        "accuracy_keras =  (TP+TN) /(TP+FP+TN+FN)\n",
        "\n",
        "print('Accuracy of the binary classification = {:0.3f}'.format(accuracy_keras))"
      ],
      "metadata": {
        "colab": {
          "base_uri": "https://localhost:8080/"
        },
        "id": "-C4jkl50kDJ3",
        "outputId": "c764f38d-5ade-4868-c377-d5cde59898a2"
      },
      "execution_count": null,
      "outputs": [
        {
          "output_type": "stream",
          "name": "stdout",
          "text": [
            "191/191 [==============================] - 0s 2ms/step\n",
            "True Positive(TP)  =  3439\n",
            "False Positive(FP) =  65\n",
            "True Negative(TN)  =  2495\n",
            "False Negative(FN) =  90\n",
            "Accuracy of the binary classification = 0.975\n"
          ]
        }
      ]
    },
    {
      "cell_type": "code",
      "source": [
        "from sklearn.metrics import confusion_matrix\n",
        "\n",
        "y_predicted = model.predict(X_test) > 0.5\n",
        "mat = confusion_matrix(y_test, y_predicted)\n",
        "labels = ['0', '1']\n",
        "\n",
        "sns.heatmap(mat, square=True, annot=True, fmt='d', cbar=False, cmap='Blues',\n",
        "            xticklabels=labels, yticklabels=labels)\n",
        "\n",
        "plt.xlabel('Predicted label')\n",
        "plt.ylabel('Actual label')"
      ],
      "metadata": {
        "colab": {
          "base_uri": "https://localhost:8080/",
          "height": 320
        },
        "id": "gEM1lRC3gezF",
        "outputId": "676a7bf7-57e2-4985-800e-89f3a344bc2a"
      },
      "execution_count": null,
      "outputs": [
        {
          "output_type": "stream",
          "name": "stdout",
          "text": [
            "191/191 [==============================] - 0s 1ms/step\n"
          ]
        },
        {
          "output_type": "execute_result",
          "data": {
            "text/plain": [
              "Text(89.18, 0.5, 'Actual label')"
            ]
          },
          "metadata": {},
          "execution_count": 42
        },
        {
          "output_type": "display_data",
          "data": {
            "text/plain": [
              "<Figure size 432x288 with 1 Axes>"
            ],
            "image/png": "[encoded data removed]"
          },
          "metadata": {}
        }
      ]
    },
    {
      "cell_type": "code",
      "source": [
        "import pandas as pd\n",
        "\n",
        "df_model = pd.DataFrame(index=models.keys(), columns=['Accuracy', 'Precision', 'Recall'])\n",
        "df_model['Accuracy'] = accuracy.values()\n",
        "df_model['Precision'] = precision.values()\n",
        "df_model['Recall'] = recall.values()\n",
        "\n",
        "df_model"
      ],
      "metadata": {
        "colab": {
          "base_uri": "https://localhost:8080/",
          "height": 237
        },
        "id": "aGZEovrmhFW2",
        "outputId": "c1356c3c-ad4a-4a8e-8e5b-e4b45cf23441"
      },
      "execution_count": null,
      "outputs": [
        {
          "output_type": "execute_result",
          "data": {
            "text/plain": [
              "                         Accuracy  Precision    Recall\n",
              "Logistic Regression      0.968468   0.966846  0.978492\n",
              "Support Vector Machines  0.967647   0.965146  0.978736\n",
              "Decision Trees           0.957629   0.962879  0.963972\n",
              "Random Forest            0.977665   0.980164  0.981277\n",
              "Naive Bayes              0.967318   0.964579  0.978723\n",
              "K-Nearest Neighbor       0.966497   0.967696  0.974322"
            ],
            "text/html": [
              "\n",
              "  <div id=\"df-03a12a45-2119-4ba2-bdfe-667257247131\">\n",
              "    <div class=\"colab-df-container\">\n",
              "      <div>\n",
              "<style scoped>\n",
              "    .dataframe tbody tr th:only-of-type {\n",
              "        vertical-align: middle;\n",
              "    }\n",
              "\n",
              "    .dataframe tbody tr th {\n",
              "        vertical-align: top;\n",
              "    }\n",
              "\n",
              "    .dataframe thead th {\n",
              "        text-align: right;\n",
              "    }\n",
              "</style>\n",
              "<table border=\"1\" class=\"dataframe\">\n",
              "  <thead>\n",
              "    <tr style=\"text-align: right;\">\n",
              "      <th></th>\n",
              "      <th>Accuracy</th>\n",
              "      <th>Precision</th>\n",
              "      <th>Recall</th>\n",
              "    </tr>\n",
              "  </thead>\n",
              "  <tbody>\n",
              "    <tr>\n",
              "      <th>Logistic Regression</th>\n",
              "      <td>0.968468</td>\n",
              "      <td>0.966846</td>\n",
              "      <td>0.978492</td>\n",
              "    </tr>\n",
              "    <tr>\n",
              "      <th>Support Vector Machines</th>\n",
              "      <td>0.967647</td>\n",
              "      <td>0.965146</td>\n",
              "      <td>0.978736</td>\n",
              "    </tr>\n",
              "    <tr>\n",
              "      <th>Decision Trees</th>\n",
              "      <td>0.957629</td>\n",
              "      <td>0.962879</td>\n",
              "      <td>0.963972</td>\n",
              "    </tr>\n",
              "    <tr>\n",
              "      <th>Random Forest</th>\n",
              "      <td>0.977665</td>\n",
              "      <td>0.980164</td>\n",
              "      <td>0.981277</td>\n",
              "    </tr>\n",
              "    <tr>\n",
              "      <th>Naive Bayes</th>\n",
              "      <td>0.967318</td>\n",
              "      <td>0.964579</td>\n",
              "      <td>0.978723</td>\n",
              "    </tr>\n",
              "    <tr>\n",
              "      <th>K-Nearest Neighbor</th>\n",
              "      <td>0.966497</td>\n",
              "      <td>0.967696</td>\n",
              "      <td>0.974322</td>\n",
              "    </tr>\n",
              "  </tbody>\n",
              "</table>\n",
              "</div>\n",
              "      <button class=\"colab-df-convert\" onclick=\"convertToInteractive('df-03a12a45-2119-4ba2-bdfe-667257247131')\"\n",
              "              title=\"Convert this dataframe to an interactive table.\"\n",
              "              style=\"display:none;\">\n",
              "        \n",
              "  <svg xmlns=\"http://www.w3.org/2000/svg\" height=\"24px\"viewBox=\"0 0 24 24\"\n",
              "       width=\"24px\">\n",
              "    <path d=\"M0 0h24v24H0V0z\" fill=\"none\"/>\n",
              "    <path d=\"M18.56 5.44l.94 2.06.94-2.06 2.06-.94-2.06-.94-.94-2.06-.94 2.06-2.06.94zm-11 1L8.5 8.5l.94-2.06 2.06-.94-2.06-.94L8.5 2.5l-.94 2.06-2.06.94zm10 10l.94 2.06.94-2.06 2.06-.94-2.06-.94-.94-2.06-.94 2.06-2.06.94z\"/><path d=\"M17.41 7.96l-1.37-1.37c-.4-.4-.92-.59-1.43-.59-.52 0-1.04.2-1.43.59L10.3 9.45l-7.72 7.72c-.78.78-.78 2.05 0 2.83L4 21.41c.39.39.9.59 1.41.59.51 0 1.02-.2 1.41-.59l7.78-7.78 2.81-2.81c.8-.78.8-2.07 0-2.86zM5.41 20L4 18.59l7.72-7.72 1.47 1.35L5.41 20z\"/>\n",
              "  </svg>\n",
              "      </button>\n",
              "      \n",
              "  <style>\n",
              "    .colab-df-container {\n",
              "      display:flex;\n",
              "      flex-wrap:wrap;\n",
              "      gap: 12px;\n",
              "    }\n",
              "\n",
              "    .colab-df-convert {\n",
              "      background-color: #E8F0FE;\n",
              "      border: none;\n",
              "      border-radius: 50%;\n",
              "      cursor: pointer;\n",
              "      display: none;\n",
              "      fill: #1967D2;\n",
              "      height: 32px;\n",
              "      padding: 0 0 0 0;\n",
              "      width: 32px;\n",
              "    }\n",
              "\n",
              "    .colab-df-convert:hover {\n",
              "      background-color: #E2EBFA;\n",
              "      box-shadow: 0px 1px 2px rgba(60, 64, 67, 0.3), 0px 1px 3px 1px rgba(60, 64, 67, 0.15);\n",
              "      fill: #174EA6;\n",
              "    }\n",
              "\n",
              "    [theme=dark] .colab-df-convert {\n",
              "      background-color: #3B4455;\n",
              "      fill: #D2E3FC;\n",
              "    }\n",
              "\n",
              "    [theme=dark] .colab-df-convert:hover {\n",
              "      background-color: #434B5C;\n",
              "      box-shadow: 0px 1px 3px 1px rgba(0, 0, 0, 0.15);\n",
              "      filter: drop-shadow(0px 1px 2px rgba(0, 0, 0, 0.3));\n",
              "      fill: #FFFFFF;\n",
              "    }\n",
              "  </style>\n",
              "\n",
              "      <script>\n",
              "        const buttonEl =\n",
              "          document.querySelector('#df-03a12a45-2119-4ba2-bdfe-667257247131 button.colab-df-convert');\n",
              "        buttonEl.style.display =\n",
              "          google.colab.kernel.accessAllowed ? 'block' : 'none';\n",
              "\n",
              "        async function convertToInteractive(key) {\n",
              "          const element = document.querySelector('#df-03a12a45-2119-4ba2-bdfe-667257247131');\n",
              "          const dataTable =\n",
              "            await google.colab.kernel.invokeFunction('convertToInteractive',\n",
              "                                                     [key], {});\n",
              "          if (!dataTable) return;\n",
              "\n",
              "          const docLinkHtml = 'Like what you see? Visit the ' +\n",
              "            '<a target=\"_blank\" href=https://colab.research.google.com/notebooks/data_table.ipynb>data table notebook</a>'\n",
              "            + ' to learn more about interactive tables.';\n",
              "          element.innerHTML = '';\n",
              "          dataTable['output_type'] = 'display_data';\n",
              "          await google.colab.output.renderOutput(dataTable, element);\n",
              "          const docLink = document.createElement('div');\n",
              "          docLink.innerHTML = docLinkHtml;\n",
              "          element.appendChild(docLink);\n",
              "        }\n",
              "      </script>\n",
              "    </div>\n",
              "  </div>\n",
              "  "
            ]
          },
          "metadata": {},
          "execution_count": 43
        }
      ]
    },
    {
      "cell_type": "code",
      "source": [
        "ax  = df_model.plot.bar(rot=45)\n",
        "ax.legend(ncol= len(models.keys()), bbox_to_anchor=(0, 1), loc='lower left', prop={'size': 14})\n",
        "plt.tight_layout()"
      ],
      "metadata": {
        "colab": {
          "base_uri": "https://localhost:8080/",
          "height": 293
        },
        "id": "J8SKqRHBoXQh",
        "outputId": "edca6e14-5bab-4a7a-c8cd-811c634b14c1"
      },
      "execution_count": null,
      "outputs": [
        {
          "output_type": "display_data",
          "data": {
            "text/plain": [
              "<Figure size 432x288 with 1 Axes>"
            ],
            "image/png": "[encoded data removed]"
          },
          "metadata": {}
        }
      ]
    },
    {
      "cell_type": "code",
      "source": [],
      "metadata": {
        "id": "MZF19mSZy8Ic"
      },
      "execution_count": null,
      "outputs": []
    }
  ]
}